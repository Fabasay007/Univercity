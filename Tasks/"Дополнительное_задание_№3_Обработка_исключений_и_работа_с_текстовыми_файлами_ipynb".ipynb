{
  "cells": [
    {
      "cell_type": "markdown",
      "metadata": {
        "id": "view-in-github",
        "colab_type": "text"
      },
      "source": [
        "<a href=\"https://colab.research.google.com/github/Fabasay007/Univercity/blob/main/Tasks/%22%D0%94%D0%BE%D0%BF%D0%BE%D0%BB%D0%BD%D0%B8%D1%82%D0%B5%D0%BB%D1%8C%D0%BD%D0%BE%D0%B5_%D0%B7%D0%B0%D0%B4%D0%B0%D0%BD%D0%B8%D0%B5_%E2%84%963_%D0%9E%D0%B1%D1%80%D0%B0%D0%B1%D0%BE%D1%82%D0%BA%D0%B0_%D0%B8%D1%81%D0%BA%D0%BB%D1%8E%D1%87%D0%B5%D0%BD%D0%B8%D0%B9_%D0%B8_%D1%80%D0%B0%D0%B1%D0%BE%D1%82%D0%B0_%D1%81_%D1%82%D0%B5%D0%BA%D1%81%D1%82%D0%BE%D0%B2%D1%8B%D0%BC%D0%B8_%D1%84%D0%B0%D0%B9%D0%BB%D0%B0%D0%BC%D0%B8_ipynb%22.ipynb\" target=\"_parent\"><img src=\"https://colab.research.google.com/assets/colab-badge.svg\" alt=\"Open In Colab\"/></a>"
      ]
    },
    {
      "cell_type": "markdown",
      "id": "bb332bf9",
      "metadata": {
        "id": "bb332bf9"
      },
      "source": [
        "# **Дополнительное задание №3. Обработка исключений и работа с текстовыми файлами**"
      ]
    },
    {
      "cell_type": "markdown",
      "id": "aa6808db",
      "metadata": {
        "id": "aa6808db"
      },
      "source": [
        "**БАЗА:**\n",
        "\n",
        "- **Обработка исключений** позволяет перехватывать и обрабатывать ошибки, возникающие при выполнении программы, предотвращая её аварийное завершение.\n",
        "- **Работа с файлами** - важный навык для чтения, записи и обработки текстовой информации в Python.\n",
        "\n",
        "---"
      ]
    },
    {
      "cell_type": "markdown",
      "id": "2478deca",
      "metadata": {
        "id": "2478deca"
      },
      "source": [
        "## **I. Обработка исключений**"
      ]
    },
    {
      "cell_type": "markdown",
      "id": "0ab0b851",
      "metadata": {
        "id": "0ab0b851"
      },
      "source": [
        "### **Пункт №1. Обработка некорректного индекса (IndexError)**"
      ]
    },
    {
      "cell_type": "markdown",
      "id": "46e69e1f",
      "metadata": {
        "id": "46e69e1f"
      },
      "source": [
        "Создайте список из нескольких элементов (например, [10, 20, 30]). Попросите пользователя ввести индекс элемента, который нужно вывести. Если пользователь введёт индекс, выходящий за границы списка, перехватите IndexError и сообщите об этом.\n",
        "\n",
        "**ОБЯЗАТЕЛЬНО:**\n",
        "- Создайте список из минимум 5 элементов\n",
        "- Покажите содержимое списка перед работой\n",
        "- Протестируйте минимум 4 случая (корректный индекс, отрицательный, слишком большой, нечисловое значение)"
      ]
    },
    {
      "cell_type": "code",
      "execution_count": null,
      "id": "724c5954",
      "metadata": {
        "id": "724c5954",
        "colab": {
          "base_uri": "https://localhost:8080/"
        },
        "outputId": "21170744-3e03-4237-9a5c-a6590d0f184f"
      },
      "outputs": [
        {
          "output_type": "stream",
          "name": "stdout",
          "text": [
            "муг\n",
            "Введите числовое значение!\n"
          ]
        }
      ],
      "source": [
        "# Ваш код и демонстрация работы\n",
        "lst = [10,20,30,40,50]\n",
        "try:\n",
        "    a = int(input())\n",
        "    print( lst[a])\n",
        "except IndexError :\n",
        "    print(\"Вы вышли за границы списка!\")\n",
        "except ValueError:\n",
        "    print(\"Введите числовое значение!\")\n"
      ]
    },
    {
      "cell_type": "markdown",
      "id": "f8bfb6e1",
      "metadata": {
        "id": "f8bfb6e1"
      },
      "source": [
        "### **Пункт №2. Обработка исключений в цикле**"
      ]
    },
    {
      "cell_type": "markdown",
      "id": "63c3b706",
      "metadata": {
        "id": "63c3b706"
      },
      "source": [
        "Напишите программу, которая запрашивает у пользователя числа и добавляет их в список.\n",
        "- Если пользователь вводит некорректные данные, программа должна выводить сообщение об ошибке и продолжать работу.\n",
        "- Для выхода из программы пользователь должен ввести \"стоп\".\n",
        "\n",
        "**ОБЯЗАТЕЛЬНО:**\n",
        "- Покажите процесс ввода минимум 7 значений (включая ошибочные)\n",
        "- Выведите финальный список и статистику (сколько чисел введено успешно, сколько ошибок)"
      ]
    },
    {
      "cell_type": "markdown",
      "source": [
        "\n",
        "\n",
        "```\n",
        "# Пример:\n",
        "# Введите число: 10\n",
        "# Введите число: текст (Ошибка: это не число)\n",
        "# Введите число: стоп\n",
        "# Итоговый список: [10]\n",
        "```\n",
        "\n"
      ],
      "metadata": {
        "id": "aiWaEPOuoHDS"
      },
      "id": "aiWaEPOuoHDS"
    },
    {
      "cell_type": "code",
      "execution_count": null,
      "id": "31448e09",
      "metadata": {
        "id": "31448e09",
        "colab": {
          "base_uri": "https://localhost:8080/"
        },
        "outputId": "9a9ddf33-4049-4943-b39e-34b837617162"
      },
      "outputs": [
        {
          "output_type": "stream",
          "name": "stdout",
          "text": [
            "dty\n",
            "Ошибка: это не число\n",
            "jv\n",
            "Ошибка: это не число\n",
            "3\n",
            "стоп\n",
            "[3]\n"
          ]
        }
      ],
      "source": [
        "# Ваш код и демонстрация работы\n",
        "lst = []\n",
        "\n",
        "while True:\n",
        "  a = input()\n",
        "  try:\n",
        "    if a == 'стоп':\n",
        "      print(lst)\n",
        "      break\n",
        "    a = int(a)\n",
        "  except ValueError:\n",
        "    print(\"Ошибка: это не число\")\n",
        "  else:\n",
        "    lst.append(as)\n",
        "\n",
        "\n",
        "\n",
        "\n"
      ]
    },
    {
      "cell_type": "markdown",
      "metadata": {
        "id": "Yv-FNYTEp0vV"
      },
      "source": [
        "---"
      ],
      "id": "Yv-FNYTEp0vV"
    },
    {
      "cell_type": "markdown",
      "id": "5971f85d",
      "metadata": {
        "id": "5971f85d"
      },
      "source": [
        "### **Пункт №3**"
      ]
    },
    {
      "cell_type": "markdown",
      "id": "b1457074",
      "metadata": {
        "id": "b1457074"
      },
      "source": [
        "Создайте функцию `get_list_element(lst, index)`, которая безопасно извлекает элемент списка по индексу с использованием блоков `try`, `except`, `else` и `finally`.\n",
        "\n",
        "Функция должна:\n",
        "- Обрабатывать выход за пределы списка\n",
        "- Обрабатывать некорректный тип индекса\n",
        "- Выводить сообщение о попытке доступа в блоке `finally`\n",
        "\n",
        "**ОБЯЗАТЕЛЬНО:**\n",
        "- Выведите результаты для минимум 4 различных случаев (успешный доступ, выход за границы, отрицательный индекс, нечисловой индекс)\n",
        "- Покажите, что блок `finally` выполняется всегда\n",
        "\n",
        "```python\n",
        "# Пример использования:\n",
        "my_list = [1, 2, 3, 4, 5]\n",
        "get_list_element(my_list, 2)   # Вывод: \"Элемент: 3\", \"Попытка доступа завершена\"\n",
        "get_list_element(my_list, 10)  # Вывод: \"Индекс вне диапазона\", \"Попытка доступа завершена\"\n",
        "```"
      ]
    },
    {
      "cell_type": "code",
      "execution_count": null,
      "id": "1c067cf3",
      "metadata": {
        "id": "1c067cf3",
        "colab": {
          "base_uri": "https://localhost:8080/"
        },
        "outputId": "f9e9acb3-c75c-438a-d456-44ff41f048f5"
      },
      "outputs": [
        {
          "output_type": "stream",
          "name": "stdout",
          "text": [
            "Элемент:3\n",
            "Попытка доступа завершена\n",
            "Индекс вне диапозона!\n",
            "Попытка доступа завершена\n",
            "Элемент:4\n",
            "Попытка доступа завершена\n",
            "Введено не число!\n",
            "Попытка доступа завершена\n"
          ]
        }
      ],
      "source": [
        "# Ваш код и демонстрация работы\n",
        "\n",
        "def get_list_element(lst, index):\n",
        "  try:\n",
        "    print(f'Элемент:{lst[index]}')\n",
        "  except (ValueError,TypeError):\n",
        "    print(f'Введено не число!')\n",
        "  except IndexError:\n",
        "    print(f'Индекс вне диапозона!')\n",
        "  finally:\n",
        "    print( \"Попытка доступа завершена\")\n",
        "\n",
        "my_list = [1, 2, 3, 4, 5]\n",
        "get_list_element(my_list, 2)\n",
        "get_list_element(my_list, 10)\n",
        "get_list_element(my_list, -2)\n",
        "get_list_element(my_list, 'a')\n"
      ]
    },
    {
      "cell_type": "markdown",
      "id": "b5bb39c7",
      "metadata": {
        "id": "b5bb39c7"
      },
      "source": [
        "---"
      ]
    },
    {
      "cell_type": "markdown",
      "id": "b0972d59",
      "metadata": {
        "id": "b0972d59"
      },
      "source": [
        "## **II. Работа с текстовыми файлами**"
      ]
    },
    {
      "cell_type": "markdown",
      "id": "35729435",
      "metadata": {
        "id": "35729435"
      },
      "source": [
        "### **Пункт №1. Запись в файл**"
      ]
    },
    {
      "cell_type": "markdown",
      "id": "3121365f",
      "metadata": {
        "id": "3121365f"
      },
      "source": [
        "Напишите программу, которая запрашивает у пользователя строку и записывает её в файл output.txt в режиме дозаписи.\n",
        "\n",
        "**ОБЯЗАТЕЛЬНО:**\n",
        "- Запросите у пользователя минимум 3 строки\n",
        "- Покажите содержимое файла после записи"
      ]
    },
    {
      "cell_type": "code",
      "execution_count": null,
      "id": "cbce6c5f",
      "metadata": {
        "id": "cbce6c5f",
        "colab": {
          "base_uri": "https://localhost:8080/"
        },
        "outputId": "d26e5a37-59e9-4b61-ee10-72f85d1cffaa"
      },
      "outputs": [
        {
          "output_type": "stream",
          "name": "stdout",
          "text": [
            "ejvf\n",
            "woevbe;v fevev'envfe\n"
          ]
        }
      ],
      "source": [
        "# Ваш код и демонстрация работы\n",
        "a = input()\n",
        "out_text = open(\"output.txt\", mode='a+', encoding='utf8')\n",
        "out_text.write(a )\n",
        "text = open('output.txt', encoding='utf8')\n",
        "out_text.close()\n",
        "\n",
        "print(content)"
      ]
    },
    {
      "cell_type": "markdown",
      "id": "361b3d2b",
      "metadata": {
        "id": "361b3d2b"
      },
      "source": [
        "---"
      ]
    },
    {
      "cell_type": "markdown",
      "id": "cce864b4",
      "metadata": {
        "id": "cce864b4"
      },
      "source": [
        "### **Пункт №2. Чтение из файла**"
      ]
    },
    {
      "cell_type": "markdown",
      "id": "4fc83b82",
      "metadata": {
        "id": "4fc83b82"
      },
      "source": [
        "Напишите программу, которая открывает файл output.txt и выводит его содержимое на экран.\n",
        "\n",
        "**ОБЯЗАТЕЛЬНО:**\n",
        "- Создайте файл с минимум 5 строками текста\n",
        "- Покажите содержимое файла целиком\n",
        "- Обработайте случай отсутствующего файла"
      ]
    },
    {
      "cell_type": "code",
      "execution_count": null,
      "id": "df27a986",
      "metadata": {
        "id": "df27a986",
        "colab": {
          "base_uri": "https://localhost:8080/"
        },
        "outputId": "4b2c212b-1709-4687-8dcb-b57173be8774"
      },
      "outputs": [
        {
          "output_type": "stream",
          "name": "stdout",
          "text": [
            "Файл не найден.\n"
          ]
        }
      ],
      "source": [
        "try:\n",
        "  text = open(\"output.txt\", mode='r', encoding='utf8')\n",
        "  pod= text.read()\n",
        "  text.close()\n",
        "  print(pod)\n",
        "except FileNotFoundError:\n",
        "    print(\"Файл не найден.\")"
      ]
    },
    {
      "cell_type": "markdown",
      "id": "2be296a2",
      "metadata": {
        "id": "2be296a2"
      },
      "source": [
        "---"
      ]
    },
    {
      "cell_type": "markdown",
      "id": "045696ba",
      "metadata": {
        "id": "045696ba"
      },
      "source": [
        "### **Пункт №3. Подсчет строк в файле**"
      ]
    },
    {
      "cell_type": "markdown",
      "id": "570ac3e9",
      "metadata": {
        "id": "570ac3e9"
      },
      "source": [
        "Напишите программу, которая открывает файл output.txt и подсчитывает количество строк в нём.\n",
        "\n",
        "**ОБЯЗАТЕЛЬНО:**\n",
        "- Создайте тестовый файл с известным количеством строк (минимум 10)\n",
        "- Покажите первые 3 строки файла\n",
        "- Выведите общее количество строк\n",
        "- Выведите количество непустых строк"
      ]
    },
    {
      "cell_type": "code",
      "execution_count": null,
      "id": "84aa205a",
      "metadata": {
        "id": "84aa205a",
        "colab": {
          "base_uri": "https://localhost:8080/"
        },
        "outputId": "0c4ca7ab-33f7-4c2b-9d34-839f10e5ac42"
      },
      "outputs": [
        {
          "output_type": "stream",
          "name": "stdout",
          "text": [
            "['vn', 'dvf', 'dgbr']\n",
            "10\n"
          ]
        }
      ],
      "source": [
        "# Ваш код и демонстрация работы\n",
        "text = open('output.txt' ,mode ='r',encoding='utf8')\n",
        "word_list = text.read().splitlines()\n",
        "print(word_list[:3])\n",
        "print(len(word_list))\n",
        "text.close()"
      ]
    },
    {
      "cell_type": "markdown",
      "id": "94c6dcb0",
      "metadata": {
        "id": "94c6dcb0"
      },
      "source": [
        "---"
      ]
    },
    {
      "cell_type": "markdown",
      "id": "56f2a74e",
      "metadata": {
        "id": "56f2a74e"
      },
      "source": [
        "### **Пункт №4. Копирование содержимого файла**"
      ]
    },
    {
      "cell_type": "markdown",
      "id": "ed736046",
      "metadata": {
        "id": "ed736046"
      },
      "source": [
        "Напишите программу, которая копирует содержимое файла input.txt в файл output.txt.\n",
        "\n",
        "**ОБЯЗАТЕЛЬНО:**\n",
        "- Создайте исходный файл с тестовым содержимым (минимум 5 строк)\n",
        "- Покажите содержимое исходного файла\n",
        "- Выполните копирование\n",
        "- Покажите содержимое скопированного файла\n",
        "- Обработайте случай отсутствия исходного файла"
      ]
    },
    {
      "cell_type": "code",
      "execution_count": null,
      "id": "31bd8a06",
      "metadata": {
        "id": "31bd8a06",
        "colab": {
          "base_uri": "https://localhost:8080/"
        },
        "outputId": "b85cda06-a89b-4b60-c534-06109ba798b9"
      },
      "outputs": [
        {
          "output_type": "stream",
          "name": "stdout",
          "text": [
            "la-la-la-la ya  semen  lobanov  beee\n",
            "vn\n",
            "dvf\n",
            "dgbr\n",
            "dvgfb\n",
            "dbhfb\n",
            "vf\n",
            "f\n",
            "dvd\n",
            "vd\n",
            "dvdla-la-la-laya semen lobanov beeela-la-la-laya semen lobanov beee\n"
          ]
        }
      ],
      "source": [
        "# Ваш код и демонстрация работы\n",
        "text1 = open('input.txt', mode = 'r', encoding ='utf8')\n",
        "word_text = text1.read().splitlines()\n",
        "print(*word_text)\n",
        "text2 = open('output.txt', mode = 'a+', encoding ='utf8')\n",
        "text2.writelines(word_text)\n",
        "text2.seek(0)\n",
        "a =text2.read()\n",
        "print(a)\n",
        "text1.close()\n",
        "text2.close()"
      ]
    },
    {
      "cell_type": "markdown",
      "id": "2f7c8ee5",
      "metadata": {
        "id": "2f7c8ee5"
      },
      "source": [
        "---"
      ]
    },
    {
      "cell_type": "markdown",
      "id": "70ee398b",
      "metadata": {
        "id": "70ee398b"
      },
      "source": [
        "### **Пункт №5. Поиск слова в файле**"
      ]
    },
    {
      "cell_type": "markdown",
      "id": "c67f8987",
      "metadata": {
        "id": "c67f8987"
      },
      "source": [
        "Напишите программу, которая открывает файл output.txt и проверяет, содержится ли в нём слово, введённое пользователем.\n",
        "\n",
        "**ОБЯЗАТЕЛЬНО:**\n",
        "- Создайте файл с минимум 10 строками текста\n",
        "- Покажите содержимое файла\n",
        "- Протестируйте поиск минимум 5 различных слов\n",
        "- Выведите номера строк, где найдено слово\n",
        "- Покажите количество вхождений слова"
      ]
    },
    {
      "cell_type": "code",
      "execution_count": null,
      "id": "d961bbf3",
      "metadata": {
        "id": "d961bbf3",
        "colab": {
          "base_uri": "https://localhost:8080/"
        },
        "outputId": "e181e1fd-e270-40cf-ceae-6fd9b6b7ff8a"
      },
      "outputs": [
        {
          "output_type": "stream",
          "name": "stdout",
          "text": [
            "bob job dir you dolfin  chipincos diss me you ford club  kiss you semen  lobanov\n",
            "you\n",
            "слово в 3 строке\n",
            "слово в 6 строке\n",
            "слово в 9 строке\n",
            "слово you встречается 3 раз\n",
            "dir\n",
            "слово в 3 строке\n",
            "слово dir встречается 1 раз\n",
            "club\n",
            "слово в 8 строке\n",
            "слово club встречается 1 раз\n",
            "kiss\n",
            "слово в 9 строке\n",
            "слово kiss встречается 1 раз\n",
            "chipincos\n",
            "слово в 5 строке\n",
            "слово chipincos встречается 1 раз\n"
          ]
        }
      ],
      "source": [
        "# Ваш код и демонстрация работы\n",
        "j = 0\n",
        "text2 = open('output.txt', mode = 'r', encoding ='utf8')\n",
        "lst = text2.read().splitlines()\n",
        "print(*lst)\n",
        "while j< 5:\n",
        "  a = input()\n",
        "  x = 0\n",
        "  for  i in range(len(lst)):\n",
        "    if a in lst[i]:\n",
        "      print(f'слово в {i +1} строке')\n",
        "      x +=1\n",
        "\n",
        "  print(f'слово {a} встречается {x} раз')\n",
        "  j+=1\n",
        "text2.close()\n"
      ]
    },
    {
      "cell_type": "markdown",
      "id": "8d69c77a",
      "metadata": {
        "id": "8d69c77a"
      },
      "source": [
        "---"
      ]
    },
    {
      "cell_type": "markdown",
      "id": "0079e067",
      "metadata": {
        "id": "0079e067"
      },
      "source": [
        "### **Пункт №6. Чтение файла с обработкой FileNotFoundError**"
      ]
    },
    {
      "cell_type": "markdown",
      "id": "c3d27312",
      "metadata": {
        "id": "c3d27312"
      },
      "source": [
        "Напишите программу, которая запрашивает у пользователя имя файла и пытается открыть его. Если файла не существует, перехватите FileNotFoundError и выведите сообщение «Файл не найден!».\n",
        "\n",
        "**ОБЯЗАТЕЛЬНО:**\n",
        "- Протестируйте с существующим файлом\n",
        "- Протестируйте с несуществующим файлом\n",
        "- Покажите содержимое существующего файла"
      ]
    },
    {
      "cell_type": "code",
      "execution_count": null,
      "id": "0c262bd2",
      "metadata": {
        "id": "0c262bd2",
        "colab": {
          "base_uri": "https://localhost:8080/"
        },
        "outputId": "39ec4f81-9a86-4db4-c97f-84e594176d15"
      },
      "outputs": [
        {
          "output_type": "stream",
          "name": "stdout",
          "text": [
            "chipincos.txt\n",
            "Файл не найден!\n"
          ]
        }
      ],
      "source": [
        "# Ваш код и демонстрация работы\n",
        "a = input()\n",
        "try:\n",
        "  text =open(a, mode = 'r', encoding ='utf8')\n",
        "  word = text.read().splitlines()\n",
        "  print(*word)\n",
        "except FileNotFoundError:\n",
        "  print('Файл не найден!')"
      ]
    },
    {
      "cell_type": "markdown",
      "id": "c3258b46",
      "metadata": {
        "id": "c3258b46"
      },
      "source": [
        "---"
      ]
    },
    {
      "cell_type": "markdown",
      "id": "02e0767b",
      "metadata": {
        "id": "02e0767b"
      },
      "source": [
        "### **Пункт №7. Подсчет статистики файла**"
      ]
    },
    {
      "cell_type": "markdown",
      "id": "1c33b711",
      "metadata": {
        "id": "1c33b711"
      },
      "source": [
        "Напишите функцию `file_statistics(filename)`, которая читает текстовый файл и возвращает словарь со статистикой:\n",
        "- Количество строк\n",
        "- Количество слов\n",
        "- Количество символов (с пробелами и без)\n",
        "\n",
        "**ОБЯЗАТЕЛЬНО:**\n",
        "- Создайте тестовый файл с минимум 5 строками текста\n",
        "- Выведите содержимое файла ДО обработки\n",
        "- Выведите полученную статистику\n",
        "- Обработайте случай несуществующего файла\n",
        "\n",
        "```python\n",
        "# Создание тестового файла\n",
        "test_content = \"\"\"Первая строка текста\n",
        "Вторая строка с большим количеством слов\n",
        "Третья строка\n",
        "Четвертая строка для теста\n",
        "Пятая и последняя строка\"\"\"\n",
        "\n",
        "# Сохраните в файл и продемонстрируйте работу\n",
        "```"
      ]
    },
    {
      "cell_type": "code",
      "execution_count": null,
      "id": "43bfd6b8",
      "metadata": {
        "id": "43bfd6b8",
        "colab": {
          "base_uri": "https://localhost:8080/"
        },
        "outputId": "883fd142-b50d-4890-8b5b-3518227bfd71"
      },
      "outputs": [
        {
          "output_type": "stream",
          "name": "stdout",
          "text": [
            "test.txt\n"
          ]
        },
        {
          "output_type": "execute_result",
          "data": {
            "text/plain": [
              "{'Количество слов': 20,\n",
              " 'Количество строк': 6,\n",
              " 'Количество символов ': 123,\n",
              " 'Количество символов без пробелов': 97}"
            ]
          },
          "metadata": {},
          "execution_count": 65
        }
      ],
      "source": [
        "\n",
        "def file_statistics(filename ):\n",
        "  cou = 0\n",
        "  cou1 =0\n",
        "  d = {}\n",
        "  b =0\n",
        "\n",
        "  print(filename)\n",
        "  try:\n",
        "      with open(filename, mode = 'r' , encoding = 'utf8') as file:\n",
        "        lst = file.read().splitlines()\n",
        "      for i in range(len(lst)):\n",
        "        a = lst[i].count(' ')\n",
        "        b +=a+1\n",
        "        cou  += len(lst[i])\n",
        "        cou1 = (cou - b - len(lst))\n",
        "      d['Количество слов'] = b\n",
        "      d['Количество строк'] = len(lst)\n",
        "      d['Количество символов '] = cou\n",
        "      d['Количество символов без пробелов'] = cou1\n",
        "\n",
        "  except FileNotFoundError:\n",
        "    print('Файл не найден')\n",
        "  return d\n",
        "file_statistics('test.txt')\n"
      ]
    },
    {
      "cell_type": "code",
      "source": [],
      "metadata": {
        "id": "VoPVcgXuX6Uv"
      },
      "id": "VoPVcgXuX6Uv",
      "execution_count": null,
      "outputs": []
    },
    {
      "cell_type": "markdown",
      "id": "903281dd",
      "metadata": {
        "id": "903281dd"
      },
      "source": [
        "---"
      ]
    },
    {
      "cell_type": "markdown",
      "id": "ad8b4ae4",
      "metadata": {
        "id": "ad8b4ae4"
      },
      "source": [
        "### **Пункт №8. Поиск и замена в файле**"
      ]
    },
    {
      "cell_type": "markdown",
      "id": "e5230d0a",
      "metadata": {
        "id": "e5230d0a"
      },
      "source": [
        "Напишите функцию `replace_in_file(filename, old_text, new_text)`, которая заменяет все вхождения `old_text` на `new_text` в файле и сохраняет результат в новый файл с префиксом \"modified_\".\n",
        "\n",
        "**ОБЯЗАТЕЛЬНО:**\n",
        "- Создайте файл с текстом, содержащим минимум 3 вхождения заменяемого слова\n",
        "- Выведите содержимое файла ДО замены\n",
        "- Выполните замену\n",
        "- Выведите содержимое файла ПОСЛЕ замены\n",
        "- Покажите количество произведенных замен"
      ]
    },
    {
      "cell_type": "code",
      "execution_count": null,
      "id": "64a05e35",
      "metadata": {
        "id": "64a05e35",
        "colab": {
          "base_uri": "https://localhost:8080/"
        },
        "outputId": "be5d09a9-2721-4793-95d8-813f5e2794e6"
      },
      "outputs": [
        {
          "output_type": "stream",
          "name": "stdout",
          "text": [
            "Первая строка текста Вторая строка с большим количеством слов Третья строка Четвертая строка для теста Пятая и  последняя строка\n",
            "Первая семен текста Вторая семен с большим количеством слов Третья семен Четвертая семен для теста Пятая и  последняя семен\n",
            "5\n"
          ]
        }
      ],
      "source": [
        "# Ваш код и демонстрация работы\n",
        "def replace_in_file(filename, old_text, new_text):\n",
        "  coun = 0\n",
        "  file1 = open(filename, mode= 'r', encoding = 'utf8' )\n",
        "  lst = file1.read().splitlines()\n",
        "  print(*lst)\n",
        "  for i in range(len(lst)):\n",
        "    if old_text in lst[i]:\n",
        "      coun += lst[i].count(old_text)\n",
        "      lst[i] =lst[i].replace(old_text, new_text)\n",
        "  print(*lst)\n",
        "  print(coun)\n",
        "\n",
        "replace_in_file('test.txt','строка','семен')\n"
      ]
    },
    {
      "cell_type": "markdown",
      "source": [],
      "metadata": {
        "id": "FXs54zK6epKF"
      },
      "id": "FXs54zK6epKF"
    },
    {
      "cell_type": "markdown",
      "id": "f77b0568",
      "metadata": {
        "id": "f77b0568"
      },
      "source": [
        "---"
      ]
    },
    {
      "cell_type": "markdown",
      "id": "79a081b1",
      "metadata": {
        "id": "79a081b1"
      },
      "source": [
        "### **Пункт №9. Объединение файлов**"
      ]
    },
    {
      "cell_type": "markdown",
      "id": "599cee3c",
      "metadata": {
        "id": "599cee3c"
      },
      "source": [
        "Создайте функцию `merge_files(file_list, output_file)`, которая объединяет содержимое нескольких текстовых файлов в один, добавляя после каждого разделитель.\n",
        "\n",
        "**ОБЯЗАТЕЛЬНО:**\n",
        "- Создайте минимум 3 файла с разным содержимым\n",
        "- Выведите содержимое КАЖДОГО исходного файла\n",
        "- Выполните объединение\n",
        "- Выведите содержимое результирующего файла"
      ]
    },
    {
      "cell_type": "code",
      "execution_count": 83,
      "id": "581b5868",
      "metadata": {
        "id": "581b5868",
        "colab": {
          "base_uri": "https://localhost:8080/"
        },
        "outputId": "5e45d3b2-6ca9-4a68-bfc3-410917fe575b"
      },
      "outputs": [
        {
          "output_type": "stream",
          "name": "stdout",
          "text": [
            "['effovne\\n', 'venv\\n', 'venv\\n']\n",
            "['effovneve\\n', 'pvepfvnw\\n', 'voefnvef\\n']\n",
            "['effvnef\\n', 'es ke\\n', 'm\\n', 'effovneve\\n']\n"
          ]
        },
        {
          "output_type": "execute_result",
          "data": {
            "text/plain": [
              "['effovne',\n",
              " 'venv',\n",
              " 'venv',\n",
              " 'effovneve',\n",
              " 'pvepfvnw',\n",
              " 'voefnvef',\n",
              " 'effvnef',\n",
              " 'es ke',\n",
              " 'm',\n",
              " 'effovneve']"
            ]
          },
          "metadata": {},
          "execution_count": 83
        }
      ],
      "source": [
        "# Ваш код и демонстрация работы\n",
        "def merge_files(*args):\n",
        "  for name in args:\n",
        "    text2 = open('together.txt', mode='a+', encoding='utf8')\n",
        "    text = open(name, mode= 'r', encoding = 'utf8')\n",
        "    lst = text.read().splitlines()\n",
        "    for i in range(len(lst)):\n",
        "      lst[i]= lst[i]+'\\n'\n",
        "    print(lst)\n",
        "    text2.writelines(lst)\n",
        "    text2.close()\n",
        "  text2 = open('together.txt', mode='r', encoding='utf8')\n",
        "  lsti =text2.read().splitlines()\n",
        "  return lsti\n",
        "merge_files('1.txt','2.txt','3.txt')"
      ]
    },
    {
      "cell_type": "markdown",
      "id": "eb866091",
      "metadata": {
        "id": "eb866091"
      },
      "source": [
        "---"
      ]
    }
  ],
  "metadata": {
    "colab": {
      "provenance": [],
      "include_colab_link": true
    },
    "language_info": {
      "name": "python"
    },
    "kernelspec": {
      "name": "python3",
      "display_name": "Python 3"
    }
  },
  "nbformat": 4,
  "nbformat_minor": 5
}